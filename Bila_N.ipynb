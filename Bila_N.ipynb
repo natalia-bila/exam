{
 "cells": [
  {
   "cell_type": "code",
   "execution_count": 87,
   "metadata": {},
   "outputs": [],
   "source": [
    "import pandas as pd\n",
    "import matplotlib.pyplot as plt\n",
    "import seaborn as sns\n",
    "import numpy as np\n",
    "from sklearn.linear_model import LogisticRegression\n",
    "%matplotlib inline"
   ]
  },
  {
   "cell_type": "code",
   "execution_count": 12,
   "metadata": {},
   "outputs": [
    {
     "name": "stdout",
     "output_type": "stream",
     "text": [
      "C:\\Users\\Natalia\\Desktop\\udata school\\machine_learning\\exam\n"
     ]
    }
   ],
   "source": [
    "cd \"C:\\Users\\Natalia\\Desktop\\udata school\\machine_learning\\exam\""
   ]
  },
  {
   "cell_type": "markdown",
   "metadata": {},
   "source": [
    "## 1. Аналіз датасету"
   ]
  },
  {
   "cell_type": "code",
   "execution_count": 54,
   "metadata": {},
   "outputs": [],
   "source": [
    "df_train = pd.read_csv('train.csv', header=None)"
   ]
  },
  {
   "cell_type": "code",
   "execution_count": 55,
   "metadata": {},
   "outputs": [
    {
     "data": {
      "text/html": [
       "<div>\n",
       "<style scoped>\n",
       "    .dataframe tbody tr th:only-of-type {\n",
       "        vertical-align: middle;\n",
       "    }\n",
       "\n",
       "    .dataframe tbody tr th {\n",
       "        vertical-align: top;\n",
       "    }\n",
       "\n",
       "    .dataframe thead th {\n",
       "        text-align: right;\n",
       "    }\n",
       "</style>\n",
       "<table border=\"1\" class=\"dataframe\">\n",
       "  <thead>\n",
       "    <tr style=\"text-align: right;\">\n",
       "      <th></th>\n",
       "      <th>0</th>\n",
       "      <th>1</th>\n",
       "      <th>2</th>\n",
       "      <th>3</th>\n",
       "      <th>4</th>\n",
       "      <th>5</th>\n",
       "      <th>6</th>\n",
       "      <th>7</th>\n",
       "      <th>8</th>\n",
       "    </tr>\n",
       "  </thead>\n",
       "  <tbody>\n",
       "    <tr>\n",
       "      <th>0</th>\n",
       "      <td>M</td>\n",
       "      <td>3.1110</td>\n",
       "      <td>2.4990</td>\n",
       "      <td>0.8160</td>\n",
       "      <td>5.8446</td>\n",
       "      <td>3.044700</td>\n",
       "      <td>NaN</td>\n",
       "      <td>1.992463</td>\n",
       "      <td>8</td>\n",
       "    </tr>\n",
       "    <tr>\n",
       "      <th>1</th>\n",
       "      <td>M</td>\n",
       "      <td>2.3715</td>\n",
       "      <td>1.8360</td>\n",
       "      <td>0.5355</td>\n",
       "      <td>2.1981</td>\n",
       "      <td>1.222069</td>\n",
       "      <td>0.545700</td>\n",
       "      <td>NaN</td>\n",
       "      <td>9</td>\n",
       "    </tr>\n",
       "    <tr>\n",
       "      <th>2</th>\n",
       "      <td>M</td>\n",
       "      <td>2.4990</td>\n",
       "      <td>2.0145</td>\n",
       "      <td>0.7140</td>\n",
       "      <td>2.7999</td>\n",
       "      <td>1.129650</td>\n",
       "      <td>0.650250</td>\n",
       "      <td>0.765000</td>\n",
       "      <td>11</td>\n",
       "    </tr>\n",
       "    <tr>\n",
       "      <th>3</th>\n",
       "      <td>M</td>\n",
       "      <td>3.2130</td>\n",
       "      <td>2.5245</td>\n",
       "      <td>0.8160</td>\n",
       "      <td>5.5743</td>\n",
       "      <td>2.534700</td>\n",
       "      <td>1.127100</td>\n",
       "      <td>1.606500</td>\n",
       "      <td>12</td>\n",
       "    </tr>\n",
       "    <tr>\n",
       "      <th>4</th>\n",
       "      <td>M</td>\n",
       "      <td>2.9325</td>\n",
       "      <td>2.2185</td>\n",
       "      <td>0.6885</td>\n",
       "      <td>5.0592</td>\n",
       "      <td>2.203200</td>\n",
       "      <td>1.254302</td>\n",
       "      <td>NaN</td>\n",
       "      <td>10</td>\n",
       "    </tr>\n",
       "  </tbody>\n",
       "</table>\n",
       "</div>"
      ],
      "text/plain": [
       "   0       1       2       3       4         5         6         7   8\n",
       "0  M  3.1110  2.4990  0.8160  5.8446  3.044700       NaN  1.992463   8\n",
       "1  M  2.3715  1.8360  0.5355  2.1981  1.222069  0.545700       NaN   9\n",
       "2  M  2.4990  2.0145  0.7140  2.7999  1.129650  0.650250  0.765000  11\n",
       "3  M  3.2130  2.5245  0.8160  5.5743  2.534700  1.127100  1.606500  12\n",
       "4  M  2.9325  2.2185  0.6885  5.0592  2.203200  1.254302       NaN  10"
      ]
     },
     "execution_count": 55,
     "metadata": {},
     "output_type": "execute_result"
    }
   ],
   "source": [
    "df_train.head()"
   ]
  },
  {
   "cell_type": "code",
   "execution_count": 56,
   "metadata": {},
   "outputs": [
    {
     "data": {
      "text/plain": [
       "(10579, 9)"
      ]
     },
     "execution_count": 56,
     "metadata": {},
     "output_type": "execute_result"
    }
   ],
   "source": [
    "df_train.shape"
   ]
  },
  {
   "cell_type": "code",
   "execution_count": 57,
   "metadata": {},
   "outputs": [
    {
     "name": "stdout",
     "output_type": "stream",
     "text": [
      "<class 'pandas.core.frame.DataFrame'>\n",
      "RangeIndex: 10579 entries, 0 to 10578\n",
      "Data columns (total 9 columns):\n",
      "0    10579 non-null object\n",
      "1    10047 non-null float64\n",
      "2    10051 non-null float64\n",
      "3    10044 non-null float64\n",
      "4    10055 non-null float64\n",
      "5    10053 non-null float64\n",
      "6    10073 non-null float64\n",
      "7    10019 non-null float64\n",
      "8    10579 non-null int64\n",
      "dtypes: float64(7), int64(1), object(1)\n",
      "memory usage: 743.9+ KB\n"
     ]
    }
   ],
   "source": [
    "df_train.info()"
   ]
  },
  {
   "cell_type": "code",
   "execution_count": 58,
   "metadata": {},
   "outputs": [],
   "source": [
    "for index, raw in df_train.iterrows():\n",
    "    df_train[[1,2,3]] = df_train[[1,2,3]].fillna(df_train[[1,2,3]][(df_train[0]==raw[0])&(df_train[8]==raw[8])].mean())"
   ]
  },
  {
   "cell_type": "code",
   "execution_count": 59,
   "metadata": {},
   "outputs": [],
   "source": [
    "for index, raw in df_train.iterrows():\n",
    "    df_train[[4,5,6,7]] = df_train[[4,5,6,7]].fillna(df_train[[4,5,6,7]][(df_train[0]==raw[0])&(df_train[8]==raw[8])].mean())"
   ]
  },
  {
   "cell_type": "code",
   "execution_count": 60,
   "metadata": {},
   "outputs": [
    {
     "name": "stdout",
     "output_type": "stream",
     "text": [
      "<class 'pandas.core.frame.DataFrame'>\n",
      "RangeIndex: 10579 entries, 0 to 10578\n",
      "Data columns (total 9 columns):\n",
      "0    10579 non-null object\n",
      "1    10579 non-null float64\n",
      "2    10579 non-null float64\n",
      "3    10579 non-null float64\n",
      "4    10579 non-null float64\n",
      "5    10579 non-null float64\n",
      "6    10579 non-null float64\n",
      "7    10579 non-null float64\n",
      "8    10579 non-null int64\n",
      "dtypes: float64(7), int64(1), object(1)\n",
      "memory usage: 743.9+ KB\n"
     ]
    }
   ],
   "source": [
    "df_train.info()"
   ]
  },
  {
   "cell_type": "code",
   "execution_count": 61,
   "metadata": {},
   "outputs": [
    {
     "data": {
      "text/html": [
       "<div>\n",
       "<style scoped>\n",
       "    .dataframe tbody tr th:only-of-type {\n",
       "        vertical-align: middle;\n",
       "    }\n",
       "\n",
       "    .dataframe tbody tr th {\n",
       "        vertical-align: top;\n",
       "    }\n",
       "\n",
       "    .dataframe thead th {\n",
       "        text-align: right;\n",
       "    }\n",
       "</style>\n",
       "<table border=\"1\" class=\"dataframe\">\n",
       "  <thead>\n",
       "    <tr style=\"text-align: right;\">\n",
       "      <th></th>\n",
       "      <th>1</th>\n",
       "      <th>2</th>\n",
       "      <th>3</th>\n",
       "      <th>4</th>\n",
       "      <th>5</th>\n",
       "      <th>6</th>\n",
       "      <th>7</th>\n",
       "      <th>8</th>\n",
       "    </tr>\n",
       "  </thead>\n",
       "  <tbody>\n",
       "    <tr>\n",
       "      <th>count</th>\n",
       "      <td>10579.000000</td>\n",
       "      <td>10579.000000</td>\n",
       "      <td>10579.000000</td>\n",
       "      <td>10579.000000</td>\n",
       "      <td>10579.000000</td>\n",
       "      <td>10579.000000</td>\n",
       "      <td>10579.000000</td>\n",
       "      <td>10579.000000</td>\n",
       "    </tr>\n",
       "    <tr>\n",
       "      <th>mean</th>\n",
       "      <td>2.794600</td>\n",
       "      <td>2.188059</td>\n",
       "      <td>0.764754</td>\n",
       "      <td>4.445237</td>\n",
       "      <td>1.996727</td>\n",
       "      <td>1.001358</td>\n",
       "      <td>1.284855</td>\n",
       "      <td>9.701200</td>\n",
       "    </tr>\n",
       "    <tr>\n",
       "      <th>std</th>\n",
       "      <td>0.515379</td>\n",
       "      <td>0.433024</td>\n",
       "      <td>0.229381</td>\n",
       "      <td>2.277447</td>\n",
       "      <td>1.080055</td>\n",
       "      <td>0.532304</td>\n",
       "      <td>0.625988</td>\n",
       "      <td>1.901391</td>\n",
       "    </tr>\n",
       "    <tr>\n",
       "      <th>min</th>\n",
       "      <td>1.045500</td>\n",
       "      <td>0.790500</td>\n",
       "      <td>0.000000</td>\n",
       "      <td>0.216750</td>\n",
       "      <td>0.086700</td>\n",
       "      <td>0.028050</td>\n",
       "      <td>0.079050</td>\n",
       "      <td>7.000000</td>\n",
       "    </tr>\n",
       "    <tr>\n",
       "      <th>25%</th>\n",
       "      <td>2.448000</td>\n",
       "      <td>1.912500</td>\n",
       "      <td>0.637500</td>\n",
       "      <td>2.706825</td>\n",
       "      <td>1.180650</td>\n",
       "      <td>0.601800</td>\n",
       "      <td>0.826200</td>\n",
       "      <td>8.000000</td>\n",
       "    </tr>\n",
       "    <tr>\n",
       "      <th>50%</th>\n",
       "      <td>2.805000</td>\n",
       "      <td>2.193000</td>\n",
       "      <td>0.739500</td>\n",
       "      <td>4.105500</td>\n",
       "      <td>1.831466</td>\n",
       "      <td>0.903664</td>\n",
       "      <td>1.211948</td>\n",
       "      <td>9.000000</td>\n",
       "    </tr>\n",
       "    <tr>\n",
       "      <th>75%</th>\n",
       "      <td>3.162000</td>\n",
       "      <td>2.499000</td>\n",
       "      <td>0.867000</td>\n",
       "      <td>5.885400</td>\n",
       "      <td>2.646900</td>\n",
       "      <td>1.331100</td>\n",
       "      <td>1.676625</td>\n",
       "      <td>11.000000</td>\n",
       "    </tr>\n",
       "    <tr>\n",
       "      <th>max</th>\n",
       "      <td>4.569913</td>\n",
       "      <td>3.776277</td>\n",
       "      <td>6.007583</td>\n",
       "      <td>14.175450</td>\n",
       "      <td>7.588800</td>\n",
       "      <td>3.876000</td>\n",
       "      <td>4.896377</td>\n",
       "      <td>16.000000</td>\n",
       "    </tr>\n",
       "  </tbody>\n",
       "</table>\n",
       "</div>"
      ],
      "text/plain": [
       "                  1             2             3             4             5  \\\n",
       "count  10579.000000  10579.000000  10579.000000  10579.000000  10579.000000   \n",
       "mean       2.794600      2.188059      0.764754      4.445237      1.996727   \n",
       "std        0.515379      0.433024      0.229381      2.277447      1.080055   \n",
       "min        1.045500      0.790500      0.000000      0.216750      0.086700   \n",
       "25%        2.448000      1.912500      0.637500      2.706825      1.180650   \n",
       "50%        2.805000      2.193000      0.739500      4.105500      1.831466   \n",
       "75%        3.162000      2.499000      0.867000      5.885400      2.646900   \n",
       "max        4.569913      3.776277      6.007583     14.175450      7.588800   \n",
       "\n",
       "                  6             7             8  \n",
       "count  10579.000000  10579.000000  10579.000000  \n",
       "mean       1.001358      1.284855      9.701200  \n",
       "std        0.532304      0.625988      1.901391  \n",
       "min        0.028050      0.079050      7.000000  \n",
       "25%        0.601800      0.826200      8.000000  \n",
       "50%        0.903664      1.211948      9.000000  \n",
       "75%        1.331100      1.676625     11.000000  \n",
       "max        3.876000      4.896377     16.000000  "
      ]
     },
     "execution_count": 61,
     "metadata": {},
     "output_type": "execute_result"
    }
   ],
   "source": [
    "df_train.describe()"
   ]
  },
  {
   "cell_type": "code",
   "execution_count": 62,
   "metadata": {},
   "outputs": [],
   "source": [
    "df_train = df_train[(df_train[0]=='M')|(df_train[0]=='F')|(df_train[0]=='I')]"
   ]
  },
  {
   "cell_type": "code",
   "execution_count": 65,
   "metadata": {},
   "outputs": [
    {
     "data": {
      "text/plain": [
       "(10137, 9)"
      ]
     },
     "execution_count": 65,
     "metadata": {},
     "output_type": "execute_result"
    }
   ],
   "source": [
    "df_train.shape"
   ]
  },
  {
   "cell_type": "markdown",
   "metadata": {},
   "source": [
    "### Розподіл статті тварин\n"
   ]
  },
  {
   "cell_type": "code",
   "execution_count": 63,
   "metadata": {},
   "outputs": [
    {
     "data": {
      "text/plain": [
       "<matplotlib.legend.Legend at 0x246d7f28>"
      ]
     },
     "execution_count": 63,
     "metadata": {},
     "output_type": "execute_result"
    },
    {
     "data": {
      "image/png": "[encoded data removed]",
      "text/plain": [
       "<Figure size 576x576 with 1 Axes>"
      ]
     },
     "metadata": {},
     "output_type": "display_data"
    }
   ],
   "source": [
    "fig, ax = plt.subplots(figsize = (8,8))\n",
    "patches, texts = ax.pie(df_train[0].value_counts(), labels=list(df_train[0].value_counts().index))\n",
    "ax.legend(patches, list(df_train[0].value_counts().index),title=\"Стать\")"
   ]
  },
  {
   "cell_type": "markdown",
   "metadata": {},
   "source": [
    "### Пошук викидів"
   ]
  },
  {
   "cell_type": "markdown",
   "metadata": {},
   "source": [
    "#### за першим стовпчиком"
   ]
  },
  {
   "cell_type": "code",
   "execution_count": 72,
   "metadata": {},
   "outputs": [
    {
     "data": {
      "image/png": "[encoded data removed]",
      "text/plain": [
       "<Figure size 576x576 with 1 Axes>"
      ]
     },
     "metadata": {
      "needs_background": "light"
     },
     "output_type": "display_data"
    }
   ],
   "source": [
    "fig, ax = plt.subplots(figsize = (8,8))\n",
    "ax = sns.boxplot(x=df_train[8], y=df_train[1], data=df_train[[1,8]])\n"
   ]
  },
  {
   "cell_type": "markdown",
   "metadata": {},
   "source": [
    "### Якщо подивитися за статтю, то викиди незначні"
   ]
  },
  {
   "cell_type": "code",
   "execution_count": 74,
   "metadata": {},
   "outputs": [
    {
     "data": {
      "image/png": "[encoded data removed]",
      "text/plain": [
       "<Figure size 576x576 with 1 Axes>"
      ]
     },
     "metadata": {
      "needs_background": "light"
     },
     "output_type": "display_data"
    }
   ],
   "source": [
    "fig, ax = plt.subplots(figsize = (8,8))\n",
    "ax = sns.boxplot(x=df_train[8][df_train[0]=='M'], y=df_train[1][df_train[0]=='M'], data=df_train[[1,8]][df_train[0]=='M'])"
   ]
  },
  {
   "cell_type": "code",
   "execution_count": 75,
   "metadata": {},
   "outputs": [
    {
     "data": {
      "image/png": "[encoded data removed]",
      "text/plain": [
       "<Figure size 576x576 with 1 Axes>"
      ]
     },
     "metadata": {
      "needs_background": "light"
     },
     "output_type": "display_data"
    }
   ],
   "source": [
    "fig, ax = plt.subplots(figsize = (8,8))\n",
    "ax = sns.boxplot(x=df_train[8][df_train[0]=='F'], y=df_train[1][df_train[0]=='F'], data=df_train[[1,8]][df_train[0]=='F'])"
   ]
  },
  {
   "cell_type": "markdown",
   "metadata": {},
   "source": [
    "### Збалансованість"
   ]
  },
  {
   "cell_type": "code",
   "execution_count": 29,
   "metadata": {},
   "outputs": [
    {
     "data": {
      "text/plain": [
       "9     2213\n",
       "10    2037\n",
       "8     1827\n",
       "11    1543\n",
       "7     1251\n",
       "12     841\n",
       "13     656\n",
       "16     211\n",
       "Name: 8, dtype: int64"
      ]
     },
     "execution_count": 29,
     "metadata": {},
     "output_type": "execute_result"
    }
   ],
   "source": [
    "df_train[8].value_counts()"
   ]
  },
  {
   "cell_type": "markdown",
   "metadata": {},
   "source": [
    "### Не збалансована 16 виду значно менше ніж 9-го"
   ]
  },
  {
   "cell_type": "code",
   "execution_count": 97,
   "metadata": {},
   "outputs": [],
   "source": [
    "df_train[0] = df_train[0] .astype('category')"
   ]
  },
  {
   "cell_type": "code",
   "execution_count": 98,
   "metadata": {},
   "outputs": [
    {
     "name": "stdout",
     "output_type": "stream",
     "text": [
      "<class 'pandas.core.frame.DataFrame'>\n",
      "Int64Index: 10137 entries, 0 to 10578\n",
      "Data columns (total 9 columns):\n",
      "0    10137 non-null category\n",
      "1    10137 non-null float64\n",
      "2    10137 non-null float64\n",
      "3    10137 non-null float64\n",
      "4    10137 non-null float64\n",
      "5    10137 non-null float64\n",
      "6    10137 non-null float64\n",
      "7    10137 non-null float64\n",
      "8    10137 non-null int64\n",
      "dtypes: category(1), float64(7), int64(1)\n",
      "memory usage: 1.0 MB\n"
     ]
    }
   ],
   "source": [
    "df_train.info()"
   ]
  },
  {
   "cell_type": "code",
   "execution_count": 102,
   "metadata": {},
   "outputs": [],
   "source": [
    "dfDummies = pd.get_dummies(df_train[0], prefix = 'category')"
   ]
  },
  {
   "cell_type": "code",
   "execution_count": 103,
   "metadata": {},
   "outputs": [
    {
     "data": {
      "text/html": [
       "<div>\n",
       "<style scoped>\n",
       "    .dataframe tbody tr th:only-of-type {\n",
       "        vertical-align: middle;\n",
       "    }\n",
       "\n",
       "    .dataframe tbody tr th {\n",
       "        vertical-align: top;\n",
       "    }\n",
       "\n",
       "    .dataframe thead th {\n",
       "        text-align: right;\n",
       "    }\n",
       "</style>\n",
       "<table border=\"1\" class=\"dataframe\">\n",
       "  <thead>\n",
       "    <tr style=\"text-align: right;\">\n",
       "      <th></th>\n",
       "      <th>category_F</th>\n",
       "      <th>category_I</th>\n",
       "      <th>category_M</th>\n",
       "    </tr>\n",
       "  </thead>\n",
       "  <tbody>\n",
       "    <tr>\n",
       "      <th>0</th>\n",
       "      <td>0</td>\n",
       "      <td>0</td>\n",
       "      <td>1</td>\n",
       "    </tr>\n",
       "    <tr>\n",
       "      <th>1</th>\n",
       "      <td>0</td>\n",
       "      <td>0</td>\n",
       "      <td>1</td>\n",
       "    </tr>\n",
       "    <tr>\n",
       "      <th>2</th>\n",
       "      <td>0</td>\n",
       "      <td>0</td>\n",
       "      <td>1</td>\n",
       "    </tr>\n",
       "    <tr>\n",
       "      <th>3</th>\n",
       "      <td>0</td>\n",
       "      <td>0</td>\n",
       "      <td>1</td>\n",
       "    </tr>\n",
       "    <tr>\n",
       "      <th>4</th>\n",
       "      <td>0</td>\n",
       "      <td>0</td>\n",
       "      <td>1</td>\n",
       "    </tr>\n",
       "    <tr>\n",
       "      <th>5</th>\n",
       "      <td>0</td>\n",
       "      <td>0</td>\n",
       "      <td>1</td>\n",
       "    </tr>\n",
       "    <tr>\n",
       "      <th>6</th>\n",
       "      <td>0</td>\n",
       "      <td>0</td>\n",
       "      <td>1</td>\n",
       "    </tr>\n",
       "    <tr>\n",
       "      <th>7</th>\n",
       "      <td>0</td>\n",
       "      <td>0</td>\n",
       "      <td>1</td>\n",
       "    </tr>\n",
       "    <tr>\n",
       "      <th>8</th>\n",
       "      <td>1</td>\n",
       "      <td>0</td>\n",
       "      <td>0</td>\n",
       "    </tr>\n",
       "    <tr>\n",
       "      <th>9</th>\n",
       "      <td>0</td>\n",
       "      <td>0</td>\n",
       "      <td>1</td>\n",
       "    </tr>\n",
       "  </tbody>\n",
       "</table>\n",
       "</div>"
      ],
      "text/plain": [
       "   category_F  category_I  category_M\n",
       "0           0           0           1\n",
       "1           0           0           1\n",
       "2           0           0           1\n",
       "3           0           0           1\n",
       "4           0           0           1\n",
       "5           0           0           1\n",
       "6           0           0           1\n",
       "7           0           0           1\n",
       "8           1           0           0\n",
       "9           0           0           1"
      ]
     },
     "execution_count": 103,
     "metadata": {},
     "output_type": "execute_result"
    }
   ],
   "source": [
    "dfDummies.head(10)"
   ]
  },
  {
   "cell_type": "code",
   "execution_count": 105,
   "metadata": {},
   "outputs": [],
   "source": [
    "df_train = pd.concat([dfDummies, df_train.iloc[:,1:]], axis=1)"
   ]
  },
  {
   "cell_type": "code",
   "execution_count": 110,
   "metadata": {},
   "outputs": [
    {
     "data": {
      "text/html": [
       "<div>\n",
       "<style scoped>\n",
       "    .dataframe tbody tr th:only-of-type {\n",
       "        vertical-align: middle;\n",
       "    }\n",
       "\n",
       "    .dataframe tbody tr th {\n",
       "        vertical-align: top;\n",
       "    }\n",
       "\n",
       "    .dataframe thead th {\n",
       "        text-align: right;\n",
       "    }\n",
       "</style>\n",
       "<table border=\"1\" class=\"dataframe\">\n",
       "  <thead>\n",
       "    <tr style=\"text-align: right;\">\n",
       "      <th></th>\n",
       "      <th>category_F</th>\n",
       "      <th>category_I</th>\n",
       "      <th>category_M</th>\n",
       "      <th>1</th>\n",
       "      <th>2</th>\n",
       "      <th>3</th>\n",
       "      <th>4</th>\n",
       "      <th>5</th>\n",
       "      <th>6</th>\n",
       "      <th>7</th>\n",
       "    </tr>\n",
       "  </thead>\n",
       "  <tbody>\n",
       "    <tr>\n",
       "      <th>0</th>\n",
       "      <td>0</td>\n",
       "      <td>0</td>\n",
       "      <td>1</td>\n",
       "      <td>3.1110</td>\n",
       "      <td>2.4990</td>\n",
       "      <td>0.8160</td>\n",
       "      <td>5.8446</td>\n",
       "      <td>3.044700</td>\n",
       "      <td>0.858893</td>\n",
       "      <td>1.992463</td>\n",
       "    </tr>\n",
       "    <tr>\n",
       "      <th>1</th>\n",
       "      <td>0</td>\n",
       "      <td>0</td>\n",
       "      <td>1</td>\n",
       "      <td>2.3715</td>\n",
       "      <td>1.8360</td>\n",
       "      <td>0.5355</td>\n",
       "      <td>2.1981</td>\n",
       "      <td>1.222069</td>\n",
       "      <td>0.545700</td>\n",
       "      <td>1.068265</td>\n",
       "    </tr>\n",
       "    <tr>\n",
       "      <th>2</th>\n",
       "      <td>0</td>\n",
       "      <td>0</td>\n",
       "      <td>1</td>\n",
       "      <td>2.4990</td>\n",
       "      <td>2.0145</td>\n",
       "      <td>0.7140</td>\n",
       "      <td>2.7999</td>\n",
       "      <td>1.129650</td>\n",
       "      <td>0.650250</td>\n",
       "      <td>0.765000</td>\n",
       "    </tr>\n",
       "    <tr>\n",
       "      <th>3</th>\n",
       "      <td>0</td>\n",
       "      <td>0</td>\n",
       "      <td>1</td>\n",
       "      <td>3.2130</td>\n",
       "      <td>2.5245</td>\n",
       "      <td>0.8160</td>\n",
       "      <td>5.5743</td>\n",
       "      <td>2.534700</td>\n",
       "      <td>1.127100</td>\n",
       "      <td>1.606500</td>\n",
       "    </tr>\n",
       "    <tr>\n",
       "      <th>4</th>\n",
       "      <td>0</td>\n",
       "      <td>0</td>\n",
       "      <td>1</td>\n",
       "      <td>2.9325</td>\n",
       "      <td>2.2185</td>\n",
       "      <td>0.6885</td>\n",
       "      <td>5.0592</td>\n",
       "      <td>2.203200</td>\n",
       "      <td>1.254302</td>\n",
       "      <td>1.068265</td>\n",
       "    </tr>\n",
       "  </tbody>\n",
       "</table>\n",
       "</div>"
      ],
      "text/plain": [
       "   category_F  category_I  category_M       1       2       3       4  \\\n",
       "0           0           0           1  3.1110  2.4990  0.8160  5.8446   \n",
       "1           0           0           1  2.3715  1.8360  0.5355  2.1981   \n",
       "2           0           0           1  2.4990  2.0145  0.7140  2.7999   \n",
       "3           0           0           1  3.2130  2.5245  0.8160  5.5743   \n",
       "4           0           0           1  2.9325  2.2185  0.6885  5.0592   \n",
       "\n",
       "          5         6         7  \n",
       "0  3.044700  0.858893  1.992463  \n",
       "1  1.222069  0.545700  1.068265  \n",
       "2  1.129650  0.650250  0.765000  \n",
       "3  2.534700  1.127100  1.606500  \n",
       "4  2.203200  1.254302  1.068265  "
      ]
     },
     "execution_count": 110,
     "metadata": {},
     "output_type": "execute_result"
    }
   ],
   "source": [
    "df_train.iloc[:,0:-1].head()"
   ]
  },
  {
   "cell_type": "code",
   "execution_count": 111,
   "metadata": {},
   "outputs": [
    {
     "data": {
      "text/plain": [
       "LogisticRegression(C=1.0, class_weight=None, dual=False, fit_intercept=True,\n",
       "          intercept_scaling=1, max_iter=100, multi_class='ovr', n_jobs=1,\n",
       "          penalty='l2', random_state=None, solver='liblinear', tol=0.0001,\n",
       "          verbose=0, warm_start=False)"
      ]
     },
     "execution_count": 111,
     "metadata": {},
     "output_type": "execute_result"
    }
   ],
   "source": [
    "model1 = LogisticRegression()\n",
    "model1.fit(df_train.iloc[:,0:-1], df_train[8])"
   ]
  },
  {
   "cell_type": "code",
   "execution_count": 118,
   "metadata": {},
   "outputs": [],
   "source": [
    "df_test = pd.read_csv('test.csv', header=None)"
   ]
  },
  {
   "cell_type": "code",
   "execution_count": 119,
   "metadata": {},
   "outputs": [],
   "source": [
    "for index, raw in df_test.iterrows():\n",
    "    df_test.iloc[:,1:8] = df_test.iloc[:,1:8].fillna(df_test.iloc[:,1:8][(df_test[0]==raw[0])&(df_test[8]==raw[8])].mean())"
   ]
  },
  {
   "cell_type": "code",
   "execution_count": 113,
   "metadata": {},
   "outputs": [
    {
     "name": "stdout",
     "output_type": "stream",
     "text": [
      "<class 'pandas.core.frame.DataFrame'>\n",
      "RangeIndex: 2645 entries, 0 to 2644\n",
      "Data columns (total 9 columns):\n",
      "0    2645 non-null object\n",
      "1    2512 non-null float64\n",
      "2    2535 non-null float64\n",
      "3    2516 non-null float64\n",
      "4    2525 non-null float64\n",
      "5    2512 non-null float64\n",
      "6    2523 non-null float64\n",
      "7    2518 non-null float64\n",
      "8    2645 non-null int64\n",
      "dtypes: float64(7), int64(1), object(1)\n",
      "memory usage: 186.1+ KB\n"
     ]
    }
   ],
   "source": [
    "df_test.info()"
   ]
  },
  {
   "cell_type": "code",
   "execution_count": null,
   "metadata": {},
   "outputs": [],
   "source": [
    "ynew = model.predict(Xnew)"
   ]
  }
 ],
 "metadata": {
  "kernelspec": {
   "display_name": "Python 3",
   "language": "python",
   "name": "python3"
  },
  "language_info": {
   "codemirror_mode": {
    "name": "ipython",
    "version": 3
   },
   "file_extension": ".py",
   "mimetype": "text/x-python",
   "name": "python",
   "nbconvert_exporter": "python",
   "pygments_lexer": "ipython3",
   "version": "3.7.0"
  }
 },
 "nbformat": 4,
 "nbformat_minor": 2
}
